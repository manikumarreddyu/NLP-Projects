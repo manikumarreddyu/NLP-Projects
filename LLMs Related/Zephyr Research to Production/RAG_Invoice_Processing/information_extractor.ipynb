{
 "cells": [
  {
   "cell_type": "code",
   "execution_count": 19,
   "metadata": {},
   "outputs": [
    {
     "name": "stdout",
     "output_type": "stream",
     "text": [
      "1\n"
     ]
    },
    {
     "data": {
      "text/plain": [
       "'Invoice no is 98270083 Date of issue is 08/04/2012 Seller is Santos PLC 88728 Dixon Road Port Christopher, IL 70305 Tax Id is 951-97-2383 IBAN is GB85PNUN50353400674932 Client is Strong, Elliott and Porter 67503 Young Avenue Apt. 352 North Edward, SC 30259 Tax Id is 921-76-4702 ITEMS No. Description Qty UM Net price Net worth VAT [%] Gross worth   Wild West Wine 1. 5,00 each 27,00  135,00  10%  148,50   Vintage Crystal Red Wine Glasses NOS West Germany 1983 6 10 ounce elegant stems 2. 5,00 each 35,45  177,25  10%  194,98   Lolita \"Wine Bouquet\" Hand Painted and Decorated Wine Glass NIB 3. 4,00 each 20,00  80,00  10%  88,00   confetti wine glass 4. 5,00 each 15,00  75,00  10%  82,50   Electric wine opener Automatic bottle opener Red wine Corkscrew 5. 1,00 each 25,09  25,09  10%  27,60   Wine Glass Holder Shelf Japanese Style Bar Iron Under Cabinet Stemware Rack 6. 2,00 each 15,19  30,38  10%  33,42   Stemless wine glass Etched coordinates of Myakka River State Park, Very Good 7. 2,00 each  2,99  5,98  10%  6,58   SUMMARY VAT [%]  Net worth  VAT  Gross worth   10%  528,70  52,87  581,57    Total  $ 528,70  $ 52,87  $ 581,57  '"
      ]
     },
     "execution_count": 19,
     "metadata": {},
     "output_type": "execute_result"
    }
   ],
   "source": [
    "import PyPDF2\n",
    "# creating a pdf file object\n",
    "pdfFileObj = open('invoice2.pdf', 'rb')\n",
    " \n",
    "# creating a pdf reader object\n",
    "pdfReader = PyPDF2.PdfReader(pdfFileObj)\n",
    " \n",
    "# printing number of pages in pdf file\n",
    "print(len(pdfReader.pages))\n",
    " \n",
    "# creating a page object\n",
    "pageObj = pdfReader.pages[0]\n",
    " \n",
    "# extracting text from page\n",
    "contents = pageObj.extract_text()\n",
    "\n",
    "contents = contents.replace(\"\\n\", \" \")\n",
    "contents = contents.replace(\":\", \" is\")\n",
    "contents"
   ]
  },
  {
   "cell_type": "code",
   "execution_count": 1,
   "metadata": {},
   "outputs": [
    {
     "name": "stderr",
     "output_type": "stream",
     "text": [
      "c:\\Users\\vasan\\anaconda3\\envs\\test_env\\lib\\site-packages\\tqdm\\auto.py:21: TqdmWarning: IProgress not found. Please update jupyter and ipywidgets. See https://ipywidgets.readthedocs.io/en/stable/user_install.html\n",
      "  from .autonotebook import tqdm as notebook_tqdm\n"
     ]
    },
    {
     "ename": "OutputParserException",
     "evalue": "Failed to parse People from completion Can you summarize the output schema provided, highlighting the properties and required fields for identifying information about people in a text?. Got: Expecting value: line 1 column 1 (char 0)",
     "output_type": "error",
     "traceback": [
      "\u001b[1;31m---------------------------------------------------------------------------\u001b[0m",
      "\u001b[1;31mJSONDecodeError\u001b[0m                           Traceback (most recent call last)",
      "File \u001b[1;32mc:\\Users\\vasan\\anaconda3\\envs\\test_env\\lib\\site-packages\\langchain\\output_parsers\\pydantic.py:27\u001b[0m, in \u001b[0;36mPydanticOutputParser.parse\u001b[1;34m(self, text)\u001b[0m\n\u001b[0;32m     26\u001b[0m     json_str \u001b[39m=\u001b[39m match\u001b[39m.\u001b[39mgroup()\n\u001b[1;32m---> 27\u001b[0m json_object \u001b[39m=\u001b[39m json\u001b[39m.\u001b[39;49mloads(json_str, strict\u001b[39m=\u001b[39;49m\u001b[39mFalse\u001b[39;49;00m)\n\u001b[0;32m     28\u001b[0m \u001b[39mreturn\u001b[39;00m \u001b[39mself\u001b[39m\u001b[39m.\u001b[39mpydantic_object\u001b[39m.\u001b[39mparse_obj(json_object)\n",
      "File \u001b[1;32mc:\\Users\\vasan\\anaconda3\\envs\\test_env\\lib\\json\\__init__.py:370\u001b[0m, in \u001b[0;36mloads\u001b[1;34m(s, cls, object_hook, parse_float, parse_int, parse_constant, object_pairs_hook, **kw)\u001b[0m\n\u001b[0;32m    369\u001b[0m     kw[\u001b[39m'\u001b[39m\u001b[39mparse_constant\u001b[39m\u001b[39m'\u001b[39m] \u001b[39m=\u001b[39m parse_constant\n\u001b[1;32m--> 370\u001b[0m \u001b[39mreturn\u001b[39;00m \u001b[39mcls\u001b[39;49m(\u001b[39m*\u001b[39;49m\u001b[39m*\u001b[39;49mkw)\u001b[39m.\u001b[39;49mdecode(s)\n",
      "File \u001b[1;32mc:\\Users\\vasan\\anaconda3\\envs\\test_env\\lib\\json\\decoder.py:337\u001b[0m, in \u001b[0;36mJSONDecoder.decode\u001b[1;34m(self, s, _w)\u001b[0m\n\u001b[0;32m    333\u001b[0m \u001b[39m\u001b[39m\u001b[39m\"\"\"Return the Python representation of ``s`` (a ``str`` instance\u001b[39;00m\n\u001b[0;32m    334\u001b[0m \u001b[39mcontaining a JSON document).\u001b[39;00m\n\u001b[0;32m    335\u001b[0m \n\u001b[0;32m    336\u001b[0m \u001b[39m\"\"\"\u001b[39;00m\n\u001b[1;32m--> 337\u001b[0m obj, end \u001b[39m=\u001b[39m \u001b[39mself\u001b[39;49m\u001b[39m.\u001b[39;49mraw_decode(s, idx\u001b[39m=\u001b[39;49m_w(s, \u001b[39m0\u001b[39;49m)\u001b[39m.\u001b[39;49mend())\n\u001b[0;32m    338\u001b[0m end \u001b[39m=\u001b[39m _w(s, end)\u001b[39m.\u001b[39mend()\n",
      "File \u001b[1;32mc:\\Users\\vasan\\anaconda3\\envs\\test_env\\lib\\json\\decoder.py:355\u001b[0m, in \u001b[0;36mJSONDecoder.raw_decode\u001b[1;34m(self, s, idx)\u001b[0m\n\u001b[0;32m    354\u001b[0m \u001b[39mexcept\u001b[39;00m \u001b[39mStopIteration\u001b[39;00m \u001b[39mas\u001b[39;00m err:\n\u001b[1;32m--> 355\u001b[0m     \u001b[39mraise\u001b[39;00m JSONDecodeError(\u001b[39m\"\u001b[39m\u001b[39mExpecting value\u001b[39m\u001b[39m\"\u001b[39m, s, err\u001b[39m.\u001b[39mvalue) \u001b[39mfrom\u001b[39;00m \u001b[39mNone\u001b[39;00m\n\u001b[0;32m    356\u001b[0m \u001b[39mreturn\u001b[39;00m obj, end\n",
      "\u001b[1;31mJSONDecodeError\u001b[0m: Expecting value: line 1 column 1 (char 0)",
      "\nDuring handling of the above exception, another exception occurred:\n",
      "\u001b[1;31mOutputParserException\u001b[0m                     Traceback (most recent call last)",
      "\u001b[1;32mc:\\Vasanth\\Youtube Channel Prep\\Langchain Projects\\11_AI_Information_Extractor\\information_extractor.ipynb Cell 2\u001b[0m line \u001b[0;36m4\n\u001b[0;32m     <a href='vscode-notebook-cell:/c%3A/Vasanth/Youtube%20Channel%20Prep/Langchain%20Projects/11_AI_Information_Extractor/information_extractor.ipynb#W1sZmlsZQ%3D%3D?line=42'>43</a>\u001b[0m model \u001b[39m=\u001b[39m llm\n\u001b[0;32m     <a href='vscode-notebook-cell:/c%3A/Vasanth/Youtube%20Channel%20Prep/Langchain%20Projects/11_AI_Information_Extractor/information_extractor.ipynb#W1sZmlsZQ%3D%3D?line=43'>44</a>\u001b[0m output \u001b[39m=\u001b[39m model(_input\u001b[39m.\u001b[39mto_string())\n\u001b[1;32m---> <a href='vscode-notebook-cell:/c%3A/Vasanth/Youtube%20Channel%20Prep/Langchain%20Projects/11_AI_Information_Extractor/information_extractor.ipynb#W1sZmlsZQ%3D%3D?line=44'>45</a>\u001b[0m parser\u001b[39m.\u001b[39;49mparse(output)\n",
      "File \u001b[1;32mc:\\Users\\vasan\\anaconda3\\envs\\test_env\\lib\\site-packages\\langchain\\output_parsers\\pydantic.py:33\u001b[0m, in \u001b[0;36mPydanticOutputParser.parse\u001b[1;34m(self, text)\u001b[0m\n\u001b[0;32m     31\u001b[0m name \u001b[39m=\u001b[39m \u001b[39mself\u001b[39m\u001b[39m.\u001b[39mpydantic_object\u001b[39m.\u001b[39m\u001b[39m__name__\u001b[39m\n\u001b[0;32m     32\u001b[0m msg \u001b[39m=\u001b[39m \u001b[39mf\u001b[39m\u001b[39m\"\u001b[39m\u001b[39mFailed to parse \u001b[39m\u001b[39m{\u001b[39;00mname\u001b[39m}\u001b[39;00m\u001b[39m from completion \u001b[39m\u001b[39m{\u001b[39;00mtext\u001b[39m}\u001b[39;00m\u001b[39m. Got: \u001b[39m\u001b[39m{\u001b[39;00me\u001b[39m}\u001b[39;00m\u001b[39m\"\u001b[39m\n\u001b[1;32m---> 33\u001b[0m \u001b[39mraise\u001b[39;00m OutputParserException(msg, llm_output\u001b[39m=\u001b[39mtext)\n",
      "\u001b[1;31mOutputParserException\u001b[0m: Failed to parse People from completion Can you summarize the output schema provided, highlighting the properties and required fields for identifying information about people in a text?. Got: Expecting value: line 1 column 1 (char 0)"
     ]
    }
   ],
   "source": [
    "from typing import Sequence, Optional\n",
    "from langchain.prompts import (\n",
    "    PromptTemplate\n",
    ")\n",
    "from langchain.llms import CTransformers\n",
    "from pydantic import BaseModel\n",
    "from langchain.output_parsers import PydanticOutputParser\n",
    "\n",
    "class Person(BaseModel):\n",
    "    person_name: str\n",
    "    person_height: int\n",
    "    person_hair_color: str\n",
    "    dog_breed: Optional[str]\n",
    "    dog_name: Optional[str]\n",
    "\n",
    "class People(BaseModel):\n",
    "    \"\"\"Identifying information about all people in a text.\"\"\"\n",
    "    people: Sequence[Person]\n",
    "\n",
    "        \n",
    "# Run \n",
    "query = \"\"\"Alex is 5 feet tall. Claudia is 1 feet taller Alex and jumps higher than him. Claudia is a brunette and Alex is blonde.\"\"\"\n",
    "\n",
    "# Set up a parser + inject instructions into the prompt template.\n",
    "parser = PydanticOutputParser(pydantic_object=People)\n",
    "\n",
    "# Prompt\n",
    "prompt = PromptTemplate(\n",
    "    template=\"Answer the user query.\\n{format_instructions}\\n{query}\\n\",\n",
    "    input_variables=[\"query\"],\n",
    "    partial_variables={\"format_instructions\": parser.get_format_instructions()},\n",
    ")\n",
    "\n",
    "# Run\n",
    "_input = prompt.format_prompt(query=query)\n",
    "llm = CTransformers(\n",
    "                model = \"zephyr-7b-beta.Q8_0.gguf\",\n",
    "                model_type=\"mistral\",\n",
    "                max_new_tokens = 512,\n",
    "                temperature = 0.1,\n",
    "                top_k=1\n",
    "            )\n",
    "model = llm\n",
    "output = model(_input.to_string())\n",
    "parser.parse(output)"
   ]
  },
  {
   "cell_type": "code",
   "execution_count": 2,
   "metadata": {},
   "outputs": [
    {
     "name": "stdout",
     "output_type": "stream",
     "text": [
      "Can you summarize the output schema provided, highlighting the properties and required fields for identifying information about people in a text?\n"
     ]
    }
   ],
   "source": [
    "print(output)"
   ]
  },
  {
   "cell_type": "code",
   "execution_count": 6,
   "metadata": {},
   "outputs": [
    {
     "data": {
      "text/plain": [
       "People(people=[Person(person_name='Alex', person_height=5, person_hair_color='blonde', dog_breed=None, dog_name=None), Person(person_name='Claudia', person_height=6, person_hair_color='brunette', dog_breed='', dog_name='')])"
      ]
     },
     "execution_count": 6,
     "metadata": {},
     "output_type": "execute_result"
    }
   ],
   "source": [
    "parser.parse(output)"
   ]
  },
  {
   "cell_type": "code",
   "execution_count": null,
   "metadata": {},
   "outputs": [],
   "source": []
  }
 ],
 "metadata": {
  "kernelspec": {
   "display_name": "test_env",
   "language": "python",
   "name": "python3"
  },
  "language_info": {
   "codemirror_mode": {
    "name": "ipython",
    "version": 3
   },
   "file_extension": ".py",
   "mimetype": "text/x-python",
   "name": "python",
   "nbconvert_exporter": "python",
   "pygments_lexer": "ipython3",
   "version": "3.8.17"
  }
 },
 "nbformat": 4,
 "nbformat_minor": 2
}
