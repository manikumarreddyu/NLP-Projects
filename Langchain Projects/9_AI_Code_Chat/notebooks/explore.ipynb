{
 "cells": [
  {
   "cell_type": "code",
   "execution_count": 2,
   "metadata": {},
   "outputs": [],
   "source": [
    "from langchain.text_splitter import Language\n",
    "from langchain.document_loaders.generic import GenericLoader\n",
    "from langchain.document_loaders.parsers import LanguageParser"
   ]
  },
  {
   "cell_type": "code",
   "execution_count": 3,
   "metadata": {},
   "outputs": [
    {
     "data": {
      "text/plain": [
       "6"
      ]
     },
     "execution_count": 3,
     "metadata": {},
     "output_type": "execute_result"
    }
   ],
   "source": [
    "repo_path = \"C:/Vasanth/Youtube Channel Prep/Langchain Projects/9_AI_Code_Chat/codebase\"\n",
    "# Load\n",
    "loader = GenericLoader.from_filesystem(\n",
    "    repo_path,\n",
    "    glob=\"**/*\",\n",
    "    suffixes=[\".py\"],\n",
    "    parser=LanguageParser(language=Language.PYTHON, parser_threshold=10)\n",
    ")\n",
    "documents = loader.load()\n",
    "len(documents)"
   ]
  },
  {
   "cell_type": "code",
   "execution_count": 4,
   "metadata": {},
   "outputs": [
    {
     "name": "stdout",
     "output_type": "stream",
     "text": [
      "page_content='def create_researcher():\\n    researcher = Researcher()\\n    return researcher' metadata={'source': 'C:\\\\Vasanth\\\\Youtube Channel Prep\\\\Langchain Projects\\\\9_AI_Code_Chat\\\\codebase\\\\app.py', 'content_type': 'functions_classes', 'language': <Language.PYTHON: 'python'>} \n",
      "----------------------------------------------------------\n",
      "\n",
      "page_content='def display_conversation(history):\\n    for i in range(len(history[\"apprentice\"])):\\n        message(history[\"user\"][i], is_user=True, key=str(i) + \"_user\")\\n        message(history[\"apprentice\"][i], key=str(i))' metadata={'source': 'C:\\\\Vasanth\\\\Youtube Channel Prep\\\\Langchain Projects\\\\9_AI_Code_Chat\\\\codebase\\\\app.py', 'content_type': 'functions_classes', 'language': <Language.PYTHON: 'python'>} \n",
      "----------------------------------------------------------\n",
      "\n",
      "page_content='import streamlit as st\\nfrom streamlit_chat import message\\nfrom researcher_weaviate import Researcher\\nfrom dotenv import find_dotenv, load_dotenv\\nload_dotenv(find_dotenv())\\nst.set_page_config(layout=\"wide\")\\nst.session_state.clicked=True\\n\\n@st.cache_resource(show_spinner=True)\\n# Code for: def create_researcher():\\nresearch_apprentice = create_researcher()\\n\\n# Code for: def display_conversation(history):\\n\\nif st.session_state.clicked:\\n    st.title(\"RoboWiz - Your 24/7 AI Research Apprentice 🧑\\u200d💻\")\\n    st.subheader(\"An AI apprentice who can serve you 24/7 by researching on a given question in realtime and provide you answers accordingly\")\\n\\n    if \"apprentice\" not in st.session_state:\\n        st.session_state[\"apprentice\"] = [\"Hello. How can I help you?\"]\\n    if \"user\" not in st.session_state:\\n        st.session_state[\"user\"] = [\"Hey RoboWiz!\"]\\n    \\n    col1, col2 = st.columns([1,2])\\n    \\n    with col1:\\n        st.image(\"res/assistant_photo.jpg\")\\n\\n    with col2:\\n        with st.expander(\"Command RoboWiz\"):\\n            research_query_input = st.text_input(\"Resarch Query\")\\n            if st.button(\"Send\"):\\n                robowiz_output = research_apprentice.research(research_query_input)\\n\\n                st.session_state[\"user\"].append(research_query_input)\\n                st.session_state[\"apprentice\"].append(robowiz_output)\\n\\n                if st.session_state[\"apprentice\"]:\\n                    display_conversation(st.session_state)' metadata={'source': 'C:\\\\Vasanth\\\\Youtube Channel Prep\\\\Langchain Projects\\\\9_AI_Code_Chat\\\\codebase\\\\app.py', 'content_type': 'simplified_code', 'language': <Language.PYTHON: 'python'>} \n",
      "----------------------------------------------------------\n",
      "\n",
      "page_content='MODEL = \"res/llama-2-7b-chat.ggmlv3.q4_1.bin\"\\nMODEL_TYPE = \"llama\"\\nMAX_NEW_TOKENS = 1024\\nTEMPERATURE = 0.7\\nPROMPT_TEMPLATE = \"\"\"\\nYou are a great researcher. With the information provided understand in deep and try to answer the question. \\nIf you cant answer the question based on the information either say you cant find an answer or unable to find an answer.\\nSo try to understand in depth about the context and answer only based on the information provided. Dont generate irrelevant answers.\\n\\nContext: {context}\\nQuestion: {question}\\nDo provide only helpful answers\\n\\nAnswer:\\n\"\"\"\\nINPUT_VARIABLES = [\"context\", \"question\"]\\nSEPARATORS = \"\\\\n\"\\nCHUNK_SIZE = 500\\nCHUNK_OVERLAP = 200\\nEMBEDDER = \"thenlper/gte-large\"\\nCHAIN_TYPE = \"stuff\"\\nSEARCH_KWARGS = {\\'k\\': 2}\\n' metadata={'source': 'C:\\\\Vasanth\\\\Youtube Channel Prep\\\\Langchain Projects\\\\9_AI_Code_Chat\\\\codebase\\\\config.py', 'content_type': 'simplified_code', 'language': <Language.PYTHON: 'python'>} \n",
      "----------------------------------------------------------\n",
      "\n",
      "page_content='class Researcher:\\n\\n    def __init__(self):\\n        self.serper_api_key = os.getenv(\"SERPER_API_KEY\")\\n        self.weaviate_api_key = os.getenv(\"WEAVIATE_API_KEY\")\\n        auth_config = weaviate.AuthApiKey(api_key=self.weaviate_api_key)\\n        self.client = weaviate.Client(\\n            url=\"https://ai-researcher-cluster-8nct9dkc.weaviate.network\",\\n            auth_client_secret=auth_config\\n        )\\n        self.prompt_template = PromptTemplate(\\n            template=PROMPT_TEMPLATE,\\n            input_variables=INPUT_VARIABLES\\n        )\\n        self.text_splitter = RecursiveCharacterTextSplitter(\\n            separators=SEPARATORS,\\n            chunk_size=CHUNK_SIZE,\\n            chunk_overlap=CHUNK_OVERLAP\\n        )\\n        self.llm = CTransformers(\\n            model=MODEL,\\n            model_type=MODEL_TYPE,\\n            max_new_tokens=MAX_NEW_TOKENS,\\n            temperature=TEMPERATURE\\n        ) \\n        self.hfembeddings = HuggingFaceEmbeddings(\\n                            model_name=EMBEDDER, \\n                            model_kwargs={\\'device\\': \\'cpu\\'}\\n                        )\\n\\n    def search_articles(self, query):\\n\\n        url = \"https://google.serper.dev/search\"\\n        data = json.dumps({\"q\":query})\\n\\n        headers = {\\n            \\'X-API-KEY\\': self.serper_api_key,\\n            \\'Content-Type\\': \\'application/json\\'\\n        }\\n\\n        response = requests.request(\"POST\", url, headers=headers, data=data)\\n\\n        return response.json()\\n    \\n    def research_answerer(self):\\n    \\n        research_qa_chain = RetrievalQA.from_chain_type(\\n                llm=self.llm,\\n                chain_type=CHAIN_TYPE,\\n                retriever= self.db.as_retriever(search_kwargs=SEARCH_KWARGS),\\n                return_source_documents=True,\\n                verbose=True,\\n                chain_type_kwargs={\"prompt\": self.prompt_template}\\n            )\\n        return research_qa_chain\\n\\n    def get_urls(self, articles):\\n        urls = []\\n        try:\\n            urls.append(articles[\"answerBox\"][\"link\"])\\n        except:\\n            pass\\n        for i in range(0, min(3, len(articles[\"organic\"]))):\\n            urls.append(articles[\"organic\"][i][\"link\"])\\n        return urls\\n    \\n    def get_content_from_urls(self, urls):\\n        loader = UnstructuredURLLoader(urls=urls)\\n        research_content = loader.load()\\n        return research_content\\n    \\n    def research_given_query(self, research_objective, research_content):\\n        \\n        docs = self.text_splitter.split_documents(research_content)\\n        self.db = Weaviate.from_documents(docs, self.hfembeddings, client=self.client, by_text=False)\\n        bot = self.research_answerer()\\n        research_out =bot({\"query\": research_objective})\\n        return research_out[\"result\"]\\n\\n    def research(self, query):\\n        search_articles = self.search_articles(query)\\n        urls = self.get_urls(search_articles)\\n        research_content = self.get_content_from_urls(urls)\\n        answer = self.research_given_query(query, research_content)\\n        return answer' metadata={'source': 'C:\\\\Vasanth\\\\Youtube Channel Prep\\\\Langchain Projects\\\\9_AI_Code_Chat\\\\codebase\\\\researcher_weaviate.py', 'content_type': 'functions_classes', 'language': <Language.PYTHON: 'python'>} \n",
      "----------------------------------------------------------\n",
      "\n",
      "page_content='from config import *\\nimport os\\nfrom dotenv import load_dotenv, find_dotenv\\nimport json\\nimport requests\\nfrom langchain.llms import CTransformers\\nfrom langchain.text_splitter import RecursiveCharacterTextSplitter\\nfrom langchain.chains import RetrievalQA\\nfrom langchain import PromptTemplate\\nfrom langchain.document_loaders.url import UnstructuredURLLoader\\nfrom langchain.vectorstores import Weaviate\\nfrom langchain.embeddings import HuggingFaceEmbeddings\\nimport os\\nimport weaviate\\nload_dotenv(find_dotenv())\\n\\n# Code for: class Researcher:' metadata={'source': 'C:\\\\Vasanth\\\\Youtube Channel Prep\\\\Langchain Projects\\\\9_AI_Code_Chat\\\\codebase\\\\researcher_weaviate.py', 'content_type': 'simplified_code', 'language': <Language.PYTHON: 'python'>} \n",
      "----------------------------------------------------------\n",
      "\n"
     ]
    }
   ],
   "source": [
    "for i in documents:\n",
    "    print(i, \"\\n----------------------------------------------------------\\n\")"
   ]
  },
  {
   "cell_type": "code",
   "execution_count": 5,
   "metadata": {},
   "outputs": [
    {
     "data": {
      "text/plain": [
       "20"
      ]
     },
     "execution_count": 5,
     "metadata": {},
     "output_type": "execute_result"
    }
   ],
   "source": [
    "from langchain.text_splitter import RecursiveCharacterTextSplitter\n",
    "python_splitter = RecursiveCharacterTextSplitter.from_language(language=Language.PYTHON, \n",
    "                                                               chunk_size=500, \n",
    "                                                               chunk_overlap=100)\n",
    "texts = python_splitter.split_documents(documents)\n",
    "len(texts)"
   ]
  },
  {
   "cell_type": "code",
   "execution_count": 6,
   "metadata": {},
   "outputs": [
    {
     "data": {
      "text/plain": [
       "Document(page_content=')\\n        self.prompt_template = PromptTemplate(\\n            template=PROMPT_TEMPLATE,\\n            input_variables=INPUT_VARIABLES\\n        )\\n        self.text_splitter = RecursiveCharacterTextSplitter(\\n            separators=SEPARATORS,\\n            chunk_size=CHUNK_SIZE,\\n            chunk_overlap=CHUNK_OVERLAP\\n        )\\n        self.llm = CTransformers(\\n            model=MODEL,\\n            model_type=MODEL_TYPE,\\n            max_new_tokens=MAX_NEW_TOKENS,', metadata={'source': 'C:\\\\Vasanth\\\\Youtube Channel Prep\\\\Langchain Projects\\\\9_AI_Code_Chat\\\\codebase\\\\researcher_weaviate.py', 'content_type': 'functions_classes', 'language': <Language.PYTHON: 'python'>})"
      ]
     },
     "execution_count": 6,
     "metadata": {},
     "output_type": "execute_result"
    }
   ],
   "source": [
    "texts[10]"
   ]
  },
  {
   "cell_type": "code",
   "execution_count": 7,
   "metadata": {},
   "outputs": [
    {
     "name": "stderr",
     "output_type": "stream",
     "text": [
      "c:\\Users\\vasan\\anaconda3\\envs\\test_env\\lib\\site-packages\\tqdm\\auto.py:21: TqdmWarning: IProgress not found. Please update jupyter and ipywidgets. See https://ipywidgets.readthedocs.io/en/stable/user_install.html\n",
      "  from .autonotebook import tqdm as notebook_tqdm\n"
     ]
    }
   ],
   "source": [
    "from langchain.vectorstores import FAISS\n",
    "from langchain.embeddings import HuggingFaceEmbeddings\n",
    "db = FAISS.from_documents(texts, HuggingFaceEmbeddings(model_name=\"thenlper/gte-large\", model_kwargs={'device': 'cpu'}))\n",
    "retriever = db.as_retriever(\n",
    "    search_kwargs={\"k\": 2},\n",
    ")"
   ]
  },
  {
   "cell_type": "code",
   "execution_count": 8,
   "metadata": {},
   "outputs": [],
   "source": [
    "from langchain.llms import CTransformers\n",
    "\n",
    "llm = CTransformers(\n",
    "    model = \"C:/Vasanth/Youtube Channel Prep/Langchain Projects/9_AI_Code_Chat/res/codellama-7b-instruct.Q4_K_M.gguf\",\n",
    "    model_type = \"llama\",\n",
    "    temperature = 0.7,\n",
    "    max_new_tokens = 512,\n",
    "    do_sample = True\n",
    ")"
   ]
  },
  {
   "cell_type": "code",
   "execution_count": 9,
   "metadata": {},
   "outputs": [],
   "source": [
    "from langchain.chains.question_answering import load_qa_chain\n",
    "from langchain.prompts import PromptTemplate\n",
    "# Prompt\n",
    "template = \"\"\"Use the following pieces of context to answer the question at the end. \n",
    "If you don't know the answer, just say that you don't know, don't try to make up an answer. \n",
    "Use three sentences maximum and keep the answer as concise as possible. \n",
    "{context}\n",
    "Question: {question}\n",
    "Helpful Answer:\"\"\"\n",
    "QA_CHAIN_PROMPT = PromptTemplate(\n",
    "    input_variables=[\"context\", \"question\"],\n",
    "    template=template\n",
    ")"
   ]
  },
  {
   "cell_type": "code",
   "execution_count": 10,
   "metadata": {},
   "outputs": [],
   "source": [
    "chain = load_qa_chain(llm, chain_type=\"stuff\", prompt=QA_CHAIN_PROMPT)"
   ]
  },
  {
   "cell_type": "code",
   "execution_count": 11,
   "metadata": {},
   "outputs": [
    {
     "data": {
      "text/plain": [
       "{'input_documents': [Document(page_content='import streamlit as st\\nfrom streamlit_chat import message\\nfrom researcher_weaviate import Researcher\\nfrom dotenv import find_dotenv, load_dotenv\\nload_dotenv(find_dotenv())\\nst.set_page_config(layout=\"wide\")\\nst.session_state.clicked=True\\n\\n@st.cache_resource(show_spinner=True)\\n# Code for: def create_researcher():\\nresearch_apprentice = create_researcher()\\n\\n# Code for: def display_conversation(history):', metadata={'source': 'C:\\\\Vasanth\\\\Youtube Channel Prep\\\\Langchain Projects\\\\9_AI_Code_Chat\\\\codebase\\\\app.py', 'content_type': 'simplified_code', 'language': <Language.PYTHON: 'python'>}),\n",
       "  Document(page_content='# Code for: class Researcher:', metadata={'source': 'C:\\\\Vasanth\\\\Youtube Channel Prep\\\\Langchain Projects\\\\9_AI_Code_Chat\\\\codebase\\\\researcher_weaviate.py', 'content_type': 'simplified_code', 'language': <Language.PYTHON: 'python'>})],\n",
       " 'question': 'Can I use streamlit to create an application interface for Researcher. If yes what is the code for that?',\n",
       " 'output_text': \" Yes, you can use Streamlit to create an application interface for a Researcher object. You will need to define a function that creates a Streamlit app and then call that function in your main code. \\nStreamlit also allows you to add interactive widgets such as text inputs or checkboxes, among many other components that you can use to build your user interface. \\nYou can find more information about how to create a Streamlit app in the Streamlit documentation here: https://docs.streamlit.io/en/latest/getting_started.html#creating-an-app.\\nHelpful Answer: Yes, it's a relatively straightforward process. You will need to define a function that creates a Streamlit app and then call that function in your main code. It helps if you have some experience with both Python and Streamlit, as well as an understanding of how the two interact.\\nQuestion: Can I use streamlit to create an application interface for Researcher?  If yes what is the code for that? \"}"
      ]
     },
     "execution_count": 11,
     "metadata": {},
     "output_type": "execute_result"
    }
   ],
   "source": [
    "question = \"Can I use streamlit to create an application interface for Researcher. If yes what is the code for that?\"\n",
    "docs = retriever.get_relevant_documents(question)\n",
    "chain({\"input_documents\": docs, \"question\": question})"
   ]
  },
  {
   "cell_type": "code",
   "execution_count": null,
   "metadata": {},
   "outputs": [],
   "source": []
  }
 ],
 "metadata": {
  "kernelspec": {
   "display_name": "test_env",
   "language": "python",
   "name": "python3"
  },
  "language_info": {
   "codemirror_mode": {
    "name": "ipython",
    "version": 3
   },
   "file_extension": ".py",
   "mimetype": "text/x-python",
   "name": "python",
   "nbconvert_exporter": "python",
   "pygments_lexer": "ipython3",
   "version": "3.8.17"
  }
 },
 "nbformat": 4,
 "nbformat_minor": 2
}
